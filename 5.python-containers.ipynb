{
  "nbformat": 4,
  "nbformat_minor": 0,
  "metadata": {
    "kernelspec": {
      "display_name": "Python 3",
      "language": "python",
      "name": "python3"
    },
    "language_info": {
      "codemirror_mode": {
        "name": "ipython",
        "version": 3
      },
      "file_extension": ".py",
      "mimetype": "text/x-python",
      "name": "python",
      "nbconvert_exporter": "python",
      "pygments_lexer": "ipython3",
      "version": "3.5.2"
    },
    "colab": {
      "name": "5.python-containers.ipynb",
      "provenance": [],
      "collapsed_sections": []
    }
  },
  "cells": [
    {
      "cell_type": "markdown",
      "metadata": {
        "id": "2CaRvLp3RHaG",
        "colab_type": "text"
      },
      "source": [
        "# Les types conteneurs"
      ]
    },
    {
      "cell_type": "markdown",
      "metadata": {
        "id": "D6zdePV_eOFw",
        "colab_type": "text"
      },
      "source": [
        "## Les conteneurs de base"
      ]
    },
    {
      "cell_type": "markdown",
      "metadata": {
        "deletable": true,
        "editable": true,
        "id": "ufdBnowCmdG9",
        "colab_type": "text"
      },
      "source": [
        "\n",
        "> Note: les objets **muables** peuvent être modifiés après création alors que ce n'est pas le cas pour les objets **immuables**.\n",
        "\n",
        "On utilise les **_containers_** pour grouper des objets entre eux. Les containers basiques sont:\n",
        "\n",
        "- **`str`** (string: immuable; indéxée par numéro; les contenants sont stockés dans l'ordre d'ajout)\n",
        "- **`list`** (list: muable; indéxée par numéro; les contenants sont stockés dans l'ordre d'ajout)\n",
        "  - `[3, 5, 6, 3, 'dog', 'cat', False]`\n",
        "- **`tuple`** (tuple: immuable; par numéro; les contenants sont stockés dans l'ordre d'ajout)\n",
        "  - `(3, 5, 6, 3, 'dog', 'cat', False)`\n",
        "- **`set`** (set: muable; pas d'indexation; les contenants NE sont PAS stockés dans l'ordre d'ajout; contient seulement des objets immuables; ne contient pas d'objet dupliqué)\n",
        "  - `{3, 5, 6, 3, 'dog', 'cat', False}`\n",
        "- **`dict`** (dictionary: muable; paires key-value sont indéxées par des entrées immuables; les contenants NE sont PAS stockés dans l'ordre d'ajout)\n",
        "  - `{'name': 'Jane', 'age': 23, 'fav_foods': ['pizza', 'fruit', 'fish']}`\n",
        "\n",
        "<hr>"
      ]
    },
    {
      "cell_type": "markdown",
      "metadata": {
        "id": "x3x-6wzdguSr",
        "colab_type": "text"
      },
      "source": [
        "## Les listes\n"
      ]
    },
    {
      "cell_type": "code",
      "metadata": {
        "id": "nPKZqr3ZaIzn",
        "colab_type": "code",
        "outputId": "79639417-3bb0-4267-9f57-92b1fcf0f1ec",
        "colab": {
          "base_uri": "https://localhost:8080/",
          "height": 34
        }
      },
      "source": [
        "my_list = list(\"Une chaine hachée\")\n",
        "print(my_list)"
      ],
      "execution_count": 0,
      "outputs": [
        {
          "output_type": "stream",
          "text": [
            "['U', 'n', 'e', ' ', 'c', 'h', 'a', 'i', 'n', 'e', ' ', 'h', 'a', 'c', 'h', 'é', 'e']\n"
          ],
          "name": "stdout"
        }
      ]
    },
    {
      "cell_type": "markdown",
      "metadata": {
        "id": "XHy2l15chDwq",
        "colab_type": "text"
      },
      "source": [
        "### Indices"
      ]
    },
    {
      "cell_type": "code",
      "metadata": {
        "id": "s0kFxPIwhCey",
        "colab_type": "code",
        "outputId": "b048e216-65eb-49f8-bc6c-9f380732cc89",
        "colab": {
          "base_uri": "https://localhost:8080/",
          "height": 34
        }
      },
      "source": [
        "my_list[1]"
      ],
      "execution_count": 0,
      "outputs": [
        {
          "output_type": "execute_result",
          "data": {
            "text/plain": [
              "'n'"
            ]
          },
          "metadata": {
            "tags": []
          },
          "execution_count": 3
        }
      ]
    },
    {
      "cell_type": "code",
      "metadata": {
        "id": "S5LWCHRVhJpM",
        "colab_type": "code",
        "outputId": "7257fce8-460e-4e5c-a827-36ceef61e092",
        "colab": {
          "base_uri": "https://localhost:8080/",
          "height": 34
        }
      },
      "source": [
        "# En començant par la fin\n",
        "my_list[-3]"
      ],
      "execution_count": 0,
      "outputs": [
        {
          "output_type": "execute_result",
          "data": {
            "text/plain": [
              "'h'"
            ]
          },
          "metadata": {
            "tags": []
          },
          "execution_count": 4
        }
      ]
    },
    {
      "cell_type": "code",
      "metadata": {
        "id": "wRBOqfDuhO47",
        "colab_type": "code",
        "outputId": "8bc89ac8-3604-47e3-b0df-ba0e84be6cec",
        "colab": {
          "base_uri": "https://localhost:8080/",
          "height": 34
        }
      },
      "source": [
        "# Trois premiers objets\n",
        "my_list[:3]"
      ],
      "execution_count": 0,
      "outputs": [
        {
          "output_type": "execute_result",
          "data": {
            "text/plain": [
              "['U', 'n', 'e']"
            ]
          },
          "metadata": {
            "tags": []
          },
          "execution_count": 5
        }
      ]
    },
    {
      "cell_type": "code",
      "metadata": {
        "id": "Gk1Ce7tLhXVn",
        "colab_type": "code",
        "outputId": "c982dcce-ebf7-4782-f5ea-062e9f02c58b",
        "colab": {
          "base_uri": "https://localhost:8080/",
          "height": 289
        }
      },
      "source": [
        "# Tous sauf le dernier\n",
        "my_list[:-1]"
      ],
      "execution_count": 0,
      "outputs": [
        {
          "output_type": "execute_result",
          "data": {
            "text/plain": [
              "['U',\n",
              " 'n',\n",
              " 'e',\n",
              " ' ',\n",
              " 'c',\n",
              " 'h',\n",
              " 'a',\n",
              " 'i',\n",
              " 'n',\n",
              " 'e',\n",
              " ' ',\n",
              " 'h',\n",
              " 'a',\n",
              " 'c',\n",
              " 'h',\n",
              " 'é']"
            ]
          },
          "metadata": {
            "tags": []
          },
          "execution_count": 7
        }
      ]
    },
    {
      "cell_type": "code",
      "metadata": {
        "id": "5hwZnFO4hdXa",
        "colab_type": "code",
        "outputId": "ae20ea0f-1e5c-4742-ceaf-cf8ac35681a5",
        "colab": {
          "base_uri": "https://localhost:8080/",
          "height": 34
        }
      },
      "source": [
        "# On saute tous les deux éléments\n",
        "my_list[::2]"
      ],
      "execution_count": 0,
      "outputs": [
        {
          "output_type": "execute_result",
          "data": {
            "text/plain": [
              "['U', 'e', 'c', 'a', 'n', ' ', 'a', 'h', 'e']"
            ]
          },
          "metadata": {
            "tags": []
          },
          "execution_count": 14
        }
      ]
    },
    {
      "cell_type": "code",
      "metadata": {
        "id": "Eyuu8addh1Qy",
        "colab_type": "code",
        "outputId": "8a6702e1-90ba-40cf-c6cb-9f111670dffa",
        "colab": {
          "base_uri": "https://localhost:8080/",
          "height": 34
        }
      },
      "source": [
        "my_list[::-3]"
      ],
      "execution_count": 0,
      "outputs": [
        {
          "output_type": "execute_result",
          "data": {
            "text/plain": [
              "['e', 'c', ' ', 'i', 'c', 'n']"
            ]
          },
          "metadata": {
            "tags": []
          },
          "execution_count": 15
        }
      ]
    },
    {
      "cell_type": "code",
      "metadata": {
        "id": "6lWtrutah4Qu",
        "colab_type": "code",
        "outputId": "b898e572-06df-4f8e-bda4-018aa9587477",
        "colab": {
          "base_uri": "https://localhost:8080/",
          "height": 34
        }
      },
      "source": [
        "# On peut remplacer des objets\n",
        "my_list[:3] = list(\"Woo\")\n",
        "print(my_list)"
      ],
      "execution_count": 0,
      "outputs": [
        {
          "output_type": "stream",
          "text": [
            "['W', 'o', 'o', ' ', 'c', 'h', 'a', 'i', 'n', 'e', ' ', 'h', 'a', 'c', 'h', 'é', 'e']\n"
          ],
          "name": "stdout"
        }
      ]
    },
    {
      "cell_type": "code",
      "metadata": {
        "id": "UbjgovKWi1yu",
        "colab_type": "code",
        "colab": {}
      },
      "source": [
        "# Suppression d'une valeur\n",
        "del my_list[0]\n",
        "print(my_list)"
      ],
      "execution_count": 0,
      "outputs": []
    },
    {
      "cell_type": "markdown",
      "metadata": {
        "id": "-x02jeV1jJ_u",
        "colab_type": "text"
      },
      "source": [
        "### Actions sur la liste"
      ]
    },
    {
      "cell_type": "code",
      "metadata": {
        "id": "Jq1DRVYTjLq6",
        "colab_type": "code",
        "colab": {}
      },
      "source": [
        "my_list = [0, \"abc\", 1000, True, 0, 5]"
      ],
      "execution_count": 0,
      "outputs": []
    },
    {
      "cell_type": "code",
      "metadata": {
        "id": "4Z9XW7iij8AZ",
        "colab_type": "code",
        "colab": {}
      },
      "source": [
        "# Une liste est muable\n",
        "my_list.remove(\"abc\")\n",
        "print(my_list)"
      ],
      "execution_count": 0,
      "outputs": []
    },
    {
      "cell_type": "code",
      "metadata": {
        "id": "6sjBUnHjj-Vw",
        "colab_type": "code",
        "outputId": "4639c7c6-5630-46d4-9ad8-3c417dd9f948",
        "colab": {
          "base_uri": "https://localhost:8080/",
          "height": 34
        }
      },
      "source": [
        "# On enlève le dernier élément\n",
        "my_list.pop()\n",
        "print(my_list)"
      ],
      "execution_count": 0,
      "outputs": [
        {
          "output_type": "execute_result",
          "data": {
            "text/plain": [
              "5"
            ]
          },
          "metadata": {
            "tags": []
          },
          "execution_count": 33
        }
      ]
    },
    {
      "cell_type": "code",
      "metadata": {
        "id": "SommKL14kQEu",
        "colab_type": "code",
        "outputId": "c16e7d0b-bf3a-4750-b593-eec38bceb80d",
        "colab": {
          "base_uri": "https://localhost:8080/",
          "height": 34
        }
      },
      "source": [
        "# On ajoute un élément\n",
        "my_list.append(\"un nouvel élément\")\n",
        "print(my_list)"
      ],
      "execution_count": 0,
      "outputs": [
        {
          "output_type": "stream",
          "text": [
            "[0, 1000, True, 0, 'un nouvel élément']\n"
          ],
          "name": "stdout"
        }
      ]
    },
    {
      "cell_type": "code",
      "metadata": {
        "id": "9w3nMeI-kaLy",
        "colab_type": "code",
        "outputId": "9db4f714-1493-42f1-9ea9-44273a66ddb3",
        "colab": {
          "base_uri": "https://localhost:8080/",
          "height": 34
        }
      },
      "source": [
        "# On insère à un index précis\n",
        "my_list.insert(0, \"avant tout le monde\")\n",
        "print(my_list)"
      ],
      "execution_count": 0,
      "outputs": [
        {
          "output_type": "stream",
          "text": [
            "['avant tout le monde', 0, 1000, True, 0, 'un nouvel élément']\n"
          ],
          "name": "stdout"
        }
      ]
    },
    {
      "cell_type": "code",
      "metadata": {
        "id": "VOjM4TQkkk_k",
        "colab_type": "code",
        "outputId": "331be0b9-c1d0-47c5-fb84-f10ff8272391",
        "colab": {
          "base_uri": "https://localhost:8080/",
          "height": 34
        }
      },
      "source": [
        "# On concatène des listes\n",
        "my_list.extend([1, 2, 3])\n",
        "print(my_list)"
      ],
      "execution_count": 0,
      "outputs": [
        {
          "output_type": "stream",
          "text": [
            "['avant tout le monde', 0, 1000, True, 0, 'un nouvel élément', 1, 2, 3]\n"
          ],
          "name": "stdout"
        }
      ]
    },
    {
      "cell_type": "markdown",
      "metadata": {
        "id": "rcVbMHo4lkDS",
        "colab_type": "text"
      },
      "source": [
        "### Création d'une liste "
      ]
    },
    {
      "cell_type": "code",
      "metadata": {
        "id": "6cmAHvaPjTMD",
        "colab_type": "code",
        "outputId": "6fe439d1-230f-46e3-d028-794a41449f6e",
        "colab": {
          "base_uri": "https://localhost:8080/",
          "height": 34
        }
      },
      "source": [
        "numlist = [i for i in range(6)]\n",
        "print(numlist)"
      ],
      "execution_count": 2,
      "outputs": [
        {
          "output_type": "stream",
          "text": [
            "[0, 1, 2, 3, 4, 5]\n"
          ],
          "name": "stdout"
        }
      ]
    },
    {
      "cell_type": "markdown",
      "metadata": {
        "id": "vxY7RfNywL8j",
        "colab_type": "text"
      },
      "source": [
        "### Parcours d'une liste"
      ]
    },
    {
      "cell_type": "code",
      "metadata": {
        "id": "6bWJ2sOSwY_g",
        "colab_type": "code",
        "colab": {}
      },
      "source": [
        "import string\n",
        "another_list = list(string.ascii_lowercase)"
      ],
      "execution_count": 0,
      "outputs": []
    },
    {
      "cell_type": "code",
      "metadata": {
        "id": "PmlSekjFwNLR",
        "colab_type": "code",
        "colab": {}
      },
      "source": [
        "for letter in another_list:\n",
        "  print(letter)"
      ],
      "execution_count": 0,
      "outputs": []
    },
    {
      "cell_type": "code",
      "metadata": {
        "id": "EileIZ4uwWl4",
        "colab_type": "code",
        "colab": {}
      },
      "source": [
        "# Ou avec l'index\n",
        "for index, letter in enumerate(another_list):\n",
        "  print(index, letter, sep=\": \")"
      ],
      "execution_count": 0,
      "outputs": []
    },
    {
      "cell_type": "markdown",
      "metadata": {
        "id": "yU446pGkxAA7",
        "colab_type": "text"
      },
      "source": [
        "## Les tuples"
      ]
    },
    {
      "cell_type": "markdown",
      "metadata": {
        "id": "tE7yqNyCxBR_",
        "colab_type": "text"
      },
      "source": [
        "Un tuple est l'équivalent d'une liste maic celui-ci est immuable."
      ]
    },
    {
      "cell_type": "code",
      "metadata": {
        "id": "yOC7_MboyDra",
        "colab_type": "code",
        "colab": {
          "base_uri": "https://localhost:8080/",
          "height": 1000
        },
        "outputId": "9fc1b7dd-f8a2-49a2-b1c0-33607cd29f13"
      },
      "source": [
        "help(tuple)"
      ],
      "execution_count": 24,
      "outputs": [
        {
          "output_type": "stream",
          "text": [
            "Help on class tuple in module builtins:\n",
            "\n",
            "class tuple(object)\n",
            " |  tuple() -> empty tuple\n",
            " |  tuple(iterable) -> tuple initialized from iterable's items\n",
            " |  \n",
            " |  If the argument is a tuple, the return value is the same object.\n",
            " |  \n",
            " |  Methods defined here:\n",
            " |  \n",
            " |  __add__(self, value, /)\n",
            " |      Return self+value.\n",
            " |  \n",
            " |  __contains__(self, key, /)\n",
            " |      Return key in self.\n",
            " |  \n",
            " |  __eq__(self, value, /)\n",
            " |      Return self==value.\n",
            " |  \n",
            " |  __ge__(self, value, /)\n",
            " |      Return self>=value.\n",
            " |  \n",
            " |  __getattribute__(self, name, /)\n",
            " |      Return getattr(self, name).\n",
            " |  \n",
            " |  __getitem__(self, key, /)\n",
            " |      Return self[key].\n",
            " |  \n",
            " |  __getnewargs__(...)\n",
            " |  \n",
            " |  __gt__(self, value, /)\n",
            " |      Return self>value.\n",
            " |  \n",
            " |  __hash__(self, /)\n",
            " |      Return hash(self).\n",
            " |  \n",
            " |  __iter__(self, /)\n",
            " |      Implement iter(self).\n",
            " |  \n",
            " |  __le__(self, value, /)\n",
            " |      Return self<=value.\n",
            " |  \n",
            " |  __len__(self, /)\n",
            " |      Return len(self).\n",
            " |  \n",
            " |  __lt__(self, value, /)\n",
            " |      Return self<value.\n",
            " |  \n",
            " |  __mul__(self, value, /)\n",
            " |      Return self*value.\n",
            " |  \n",
            " |  __ne__(self, value, /)\n",
            " |      Return self!=value.\n",
            " |  \n",
            " |  __new__(*args, **kwargs) from builtins.type\n",
            " |      Create and return a new object.  See help(type) for accurate signature.\n",
            " |  \n",
            " |  __repr__(self, /)\n",
            " |      Return repr(self).\n",
            " |  \n",
            " |  __rmul__(self, value, /)\n",
            " |      Return value*self.\n",
            " |  \n",
            " |  count(...)\n",
            " |      T.count(value) -> integer -- return number of occurrences of value\n",
            " |  \n",
            " |  index(...)\n",
            " |      T.index(value, [start, [stop]]) -> integer -- return first index of value.\n",
            " |      Raises ValueError if the value is not present.\n",
            "\n"
          ],
          "name": "stdout"
        }
      ]
    },
    {
      "cell_type": "code",
      "metadata": {
        "id": "gte8UpdnxIzV",
        "colab_type": "code",
        "colab": {
          "base_uri": "https://localhost:8080/",
          "height": 34
        },
        "outputId": "c2515a17-601f-42b8-caf7-7a57e5c4f223"
      },
      "source": [
        "()"
      ],
      "execution_count": 12,
      "outputs": [
        {
          "output_type": "execute_result",
          "data": {
            "text/plain": [
              "()"
            ]
          },
          "metadata": {
            "tags": []
          },
          "execution_count": 12
        }
      ]
    },
    {
      "cell_type": "code",
      "metadata": {
        "id": "Bl0Fg1ovxv_-",
        "colab_type": "code",
        "colab": {
          "base_uri": "https://localhost:8080/",
          "height": 34
        },
        "outputId": "8d854ea0-ba8f-40b1-9fad-2ad3e0ded07a"
      },
      "source": [
        "(1,)"
      ],
      "execution_count": 18,
      "outputs": [
        {
          "output_type": "execute_result",
          "data": {
            "text/plain": [
              "(1,)"
            ]
          },
          "metadata": {
            "tags": []
          },
          "execution_count": 18
        }
      ]
    },
    {
      "cell_type": "code",
      "metadata": {
        "id": "IjJefIzDxt1m",
        "colab_type": "code",
        "colab": {
          "base_uri": "https://localhost:8080/",
          "height": 34
        },
        "outputId": "824611c3-b498-4f3d-f0d7-f6ee2324c74f"
      },
      "source": [
        "1,"
      ],
      "execution_count": 19,
      "outputs": [
        {
          "output_type": "execute_result",
          "data": {
            "text/plain": [
              "(1,)"
            ]
          },
          "metadata": {
            "tags": []
          },
          "execution_count": 19
        }
      ]
    },
    {
      "cell_type": "code",
      "metadata": {
        "id": "KBRj80wqx6L-",
        "colab_type": "code",
        "colab": {
          "base_uri": "https://localhost:8080/",
          "height": 34
        },
        "outputId": "1e29e408-5b79-4e43-fc14-294af7a2fff9"
      },
      "source": [
        "(1, 2)"
      ],
      "execution_count": 20,
      "outputs": [
        {
          "output_type": "execute_result",
          "data": {
            "text/plain": [
              "(1, 2)"
            ]
          },
          "metadata": {
            "tags": []
          },
          "execution_count": 20
        }
      ]
    },
    {
      "cell_type": "code",
      "metadata": {
        "id": "Y0f284BFx7IU",
        "colab_type": "code",
        "colab": {
          "base_uri": "https://localhost:8080/",
          "height": 34
        },
        "outputId": "1137dc51-8ee3-4c3b-c876-333b30062aec"
      },
      "source": [
        "# Un tuple est immuable\n",
        "my_tuple = (1, 2, 3)\n",
        "try:\n",
        "  my_tuple[0] = -3\n",
        "except TypeError:\n",
        "  print(\"On ne peut pas modifier un tuple une fois créé!\")"
      ],
      "execution_count": 28,
      "outputs": [
        {
          "output_type": "stream",
          "text": [
            "On ne peut pas modifier un tuple une fois créé!\n"
          ],
          "name": "stdout"
        }
      ]
    },
    {
      "cell_type": "code",
      "metadata": {
        "id": "sliz5F5xyVwt",
        "colab_type": "code",
        "colab": {}
      },
      "source": [
        ""
      ],
      "execution_count": 0,
      "outputs": []
    }
  ]
}